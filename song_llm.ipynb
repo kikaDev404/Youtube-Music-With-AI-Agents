{
 "cells": [
  {
   "cell_type": "code",
   "execution_count": 1,
   "id": "95883f74",
   "metadata": {},
   "outputs": [
    {
     "name": "stderr",
     "output_type": "stream",
     "text": [
      "c:\\Users\\vimal\\Documents\\GitHub\\Youtube-Music-With-AI-Agents\\.venv\\Lib\\site-packages\\tqdm\\auto.py:21: TqdmWarning: IProgress not found. Please update jupyter and ipywidgets. See https://ipywidgets.readthedocs.io/en/stable/user_install.html\n",
      "  from .autonotebook import tqdm as notebook_tqdm\n"
     ]
    }
   ],
   "source": [
    "import asyncio\n",
    "from langchain.agents import Tool\n",
    "from yt_music import NotAuthenticated as yt\n",
    "from langgraph.graph import StateGraph, END, START\n",
    "from typing import Annotated, TypedDict, List, Optional, Any\n",
    "from langchain_openai import ChatOpenAI\n",
    "from langgraph.checkpoint.memory import MemorySaver\n",
    "from langgraph.prebuilt import ToolNode, tools_condition\n",
    "from langgraph.graph.message import add_messages\n",
    "from pydantic import BaseModel\n",
    "from IPython.display import Image, display\n",
    "import gradio as gr\n",
    "from yt_music import Authenticated as yt_oath\n",
    "from langgraph.checkpoint.memory import MemorySaver\n",
    "from langchain.tools import StructuredTool"
   ]
  },
  {
   "cell_type": "code",
   "execution_count": 2,
   "id": "68ecbc2b",
   "metadata": {},
   "outputs": [],
   "source": [
    "llm = ChatOpenAI(api_key = 'ollama', base_url = \"http://127.0.0.1:11434/v1\", model = 'qwen3:8b' )"
   ]
  },
  {
   "cell_type": "code",
   "execution_count": 3,
   "id": "a5dff6e3",
   "metadata": {},
   "outputs": [],
   "source": [
    "memory = MemorySaver()"
   ]
  },
  {
   "cell_type": "code",
   "execution_count": 4,
   "id": "214c9553",
   "metadata": {},
   "outputs": [
    {
     "name": "stdout",
     "output_type": "stream",
     "text": [
      "<ytmusicapi.ytmusic.YTMusic object at 0x000001577A5C5E80>\n"
     ]
    }
   ],
   "source": [
    "yt_music = yt()\n",
    "yt_oath_user = yt_oath()"
   ]
  },
  {
   "cell_type": "code",
   "execution_count": 5,
   "id": "9b25c898",
   "metadata": {},
   "outputs": [
    {
     "name": "stdout",
     "output_type": "stream",
     "text": [
      "[Tool(name='get_lib_playlist', description=' use this tool to get all the playlist user currently has in their library. note the user is already authenticated. just pass a dummy user id to the function', func=<bound method Authenticated.get_user_library of <yt_music.Authenticated object at 0x000001577A2C1640>>), Tool(name='youtube_music_search', description='use this tool to search songs from youtube music', func=<bound method Authenticated.search_autenticated of <yt_music.Authenticated object at 0x000001577A2C1640>>), StructuredTool(name='add_to_playlist', description='use this tool to add a song to user playlist. you need to pass the playlist id and the song id or video id to the tool', args_schema=<class 'langchain_core.utils.pydantic.add_to_playlist'>, func=<bound method Authenticated.add_song_to_playlist of <yt_music.Authenticated object at 0x000001577A2C1640>>), StructuredTool(name='create_playlist', description='use this tool to create a new playlist for the user in youtube music. you need to pass a playlist name (any name you like if user not mentioned a specific name), a playlist description and the id of the songs to be added to the new playlist', args_schema=<class 'langchain_core.utils.pydantic.create_playlist'>, func=<bound method Authenticated.create_new_playlist of <yt_music.Authenticated object at 0x000001577A2C1640>>)]\n"
     ]
    }
   ],
   "source": [
    "tools = yt_oath_user.get_yt_tools()\n",
    "print(tools)"
   ]
  },
  {
   "cell_type": "code",
   "execution_count": null,
   "id": "bc20258c",
   "metadata": {},
   "outputs": [],
   "source": [
    "# search_tool = Tool(\n",
    "#     name=\"search_music\",\n",
    "#     description=\"use this tool to search for a song on YouTube Music\",\n",
    "#     func=yt_music.search_song  # async function\n",
    "# )\n"
   ]
  },
  {
   "cell_type": "code",
   "execution_count": null,
   "id": "8bab9a89",
   "metadata": {},
   "outputs": [
    {
     "name": "stdout",
     "output_type": "stream",
     "text": [
      "[{'song_id': 'bVwPpsEqmm8', 'title': \"The King's Affirmation - Chill Mix (feat. Reuel Williams)\", 'duration': '3:07', 'artists': ['Iniko'], 'album': ''}, {'song_id': 'S45rTCJwsWE', 'title': \"The King's Affirmation\", 'duration': None, 'artists': ['Iniko'], 'album': ''}, {'song_id': 'lJcO6gh-wzg', 'title': 'Jericho', 'duration': None, 'artists': ['Iniko'], 'album': ''}, {'song_id': 'tk0XbOHbmEQ', 'title': 'Pinocchio', 'duration': None, 'artists': ['Iniko'], 'album': ''}, {'song_id': 'Erp2J2g2d3A', 'title': 'i will be one of the greatest', 'duration': None, 'artists': ['TwentySixteen 意味'], 'album': ''}, {'song_id': 'SCW1-IMY60Y', 'title': 'Yosemite (Song For The Ahwahnechee)', 'duration': None, 'artists': ['Iniko'], 'album': ''}]\n"
     ]
    }
   ],
   "source": [
    "# result = search_tool.invoke(\"The kings affirmation Iniko\")\n",
    "# print(result)"
   ]
  },
  {
   "cell_type": "code",
   "execution_count": null,
   "id": "a9fd27e2",
   "metadata": {},
   "outputs": [],
   "source": [
    "# get_library = Tool(\n",
    "#     name = 'get_user_playlist',\n",
    "#     description= 'use this tool to get the full music playlist of the user. this gives all the playlsit existing library the user has. note the user is already authenticated and just pass a dummy user id if needed to the tool',\n",
    "#     func = yt_oath_user.get_user_library\n",
    "# )"
   ]
  },
  {
   "cell_type": "code",
   "execution_count": null,
   "id": "a170e847",
   "metadata": {},
   "outputs": [
    {
     "name": "stdout",
     "output_type": "stream",
     "text": [
      "[\n",
      "    {\n",
      "        \"title\": \"Liked Music\",\n",
      "        \"playlistId\": \"LM\",\n",
      "        \"description\": \"Auto playlist\",\n",
      "        \"track_count\": null\n",
      "    },\n",
      "    {\n",
      "        \"title\": \"Vimals\",\n",
      "        \"playlistId\": \"PLZnYAMmCI5BY7zF-ShOUWie2qHgWuXQHo\",\n",
      "        \"description\": \"AI Playground \\u2022 379 tracks\",\n",
      "        \"track_count\": \"379\"\n",
      "    },\n",
      "    {\n",
      "        \"title\": \"Songs I grew Up with\",\n",
      "        \"playlistId\": \"PLZnYAMmCI5BaA5DnAoll8wJILmJSec6Ya\",\n",
      "        \"description\": \"AI Playground \\u2022 197 tracks\",\n",
      "        \"track_count\": \"197\"\n",
      "    },\n",
      "    {\n",
      "        \"title\": \"Malayalam Songs for Travel\",\n",
      "        \"playlistId\": \"PLZnYAMmCI5BbD3Vtv3LiuWLH_7Qw4hJR3\",\n",
      "        \"description\": \"AI Playground \\u2022 40 tracks\",\n",
      "        \"track_count\": \"40\"\n",
      "    },\n",
      "    {\n",
      "        \"title\": \"Malayalm Modern(Rap / Hip Hop)\",\n",
      "        \"playlistId\": \"PLZnYAMmCI5BZUmXqXzPdffNe3PPzk_G7Y\",\n",
      "        \"description\": \"AI Playground \\u2022 28 tracks\",\n",
      "        \"track_count\": \"28\"\n",
      "    },\n",
      "    {\n",
      "        \"title\": \"malayalam\",\n",
      "        \"playlistId\": \"PLZnYAMmCI5BZC6a1OpgbD5Hmu2bjiqRoy\",\n",
      "        \"description\": \"AI Playground \\u2022 53 tracks\",\n",
      "        \"track_count\": \"53\"\n",
      "    },\n",
      "    {\n",
      "        \"title\": \"hindi\",\n",
      "        \"playlistId\": \"PLZnYAMmCI5Bbty_r-_lciNbgQI4RmRoBI\",\n",
      "        \"description\": \"AI Playground \\u2022 35 tracks\",\n",
      "        \"track_count\": \"35\"\n",
      "    },\n",
      "    {\n",
      "        \"title\": \"feel\",\n",
      "        \"playlistId\": \"PLZnYAMmCI5BZ9f3xLI59p0zGaqY13rk96\",\n",
      "        \"description\": \"AI Playground \\u2022 3 tracks\",\n",
      "        \"track_count\": \"3\"\n",
      "    },\n",
      "    {\n",
      "        \"title\": \"When I am in Love\",\n",
      "        \"playlistId\": \"PLZnYAMmCI5BZLoyQD0pP4snNc6_ITYv2V\",\n",
      "        \"description\": \"AI Playground \\u2022 60 tracks\",\n",
      "        \"track_count\": \"60\"\n",
      "    },\n",
      "    {\n",
      "        \"title\": \"Dubstep / Trap\",\n",
      "        \"playlistId\": \"PLZnYAMmCI5BbRM2_OAMPdD6S0DD9Gt6zv\",\n",
      "        \"description\": \"AI Playground \\u2022 48 tracks\",\n",
      "        \"track_count\": \"48\"\n",
      "    },\n",
      "    {\n",
      "        \"title\": \"That Blood Pop Songs\",\n",
      "        \"playlistId\": \"PLZnYAMmCI5BZjk-twhaf80rhZSAlsxxpj\",\n",
      "        \"description\": \"AI Playground \\u2022 30 tracks\",\n",
      "        \"track_count\": \"30\"\n",
      "    },\n",
      "    {\n",
      "        \"title\": \"english\",\n",
      "        \"playlistId\": \"PLZnYAMmCI5Bbp89kmzQNdLYT4pAOPIZIc\",\n",
      "        \"description\": \"AI Playground \\u2022 32 tracks\",\n",
      "        \"track_count\": \"32\"\n",
      "    },\n",
      "    {\n",
      "        \"title\": \"Classic Country Christmas\",\n",
      "        \"playlistId\": \"RDCLAK5uy_mfFitYsxvQM_wn4KfIhy5PZkyrwMUIdPI\",\n",
      "        \"description\": \"YouTube Music \\u2022 93 songs\",\n",
      "        \"track_count\": \"93\"\n",
      "    },\n",
      "    {\n",
      "        \"title\": \"House, House party\",\n",
      "        \"playlistId\": \"PLZnYAMmCI5BacMoa9EF5PSKad_qCmK402\",\n",
      "        \"description\": \"AI Playground \\u2022 1 track\",\n",
      "        \"track_count\": \"1\"\n",
      "    },\n",
      "    {\n",
      "        \"title\": \"Arabic Trance\",\n",
      "        \"playlistId\": \"PLZnYAMmCI5BYnEV3ir3bKUcrZhXkDT1oB\",\n",
      "        \"description\": \"AI Playground \\u2022 11 tracks\",\n",
      "        \"track_count\": \"11\"\n",
      "    },\n",
      "    {\n",
      "        \"title\": \"malayalam disco\",\n",
      "        \"playlistId\": \"PLZnYAMmCI5BbHYdBZ3jTGUchviAmKLt7s\",\n",
      "        \"description\": \"AI Playground \\u2022 20 tracks\",\n",
      "        \"track_count\": \"20\"\n",
      "    },\n",
      "    {\n",
      "        \"title\": \"Hpop\",\n",
      "        \"playlistId\": \"PLZnYAMmCI5Bb1JDSgaTN0rfH4rxzTxxn_\",\n",
      "        \"description\": \"AI Playground \\u2022 1 track\",\n",
      "        \"track_count\": \"1\"\n",
      "    },\n",
      "    {\n",
      "        \"title\": \"malayalam\",\n",
      "        \"playlistId\": \"PLzuRDQemqISMX7MVNNiB5U8Fb26uj0-4r\",\n",
      "        \"description\": \"Vimal Mathew \\u2022 19 tracks\",\n",
      "        \"track_count\": \"19\"\n",
      "    },\n",
      "    {\n",
      "        \"title\": \"Episodes for Later\",\n",
      "        \"playlistId\": \"SE\",\n",
      "        \"description\": \"Episodes you save for later\",\n",
      "        \"track_count\": null\n",
      "    }\n",
      "]\n",
      "[\n",
      "    {\n",
      "        \"title\": \"Liked Music\",\n",
      "        \"playlistId\": \"LM\",\n",
      "        \"description\": \"Auto playlist\",\n",
      "        \"track_count\": null\n",
      "    },\n",
      "    {\n",
      "        \"title\": \"Vimals\",\n",
      "        \"playlistId\": \"PLZnYAMmCI5BY7zF-ShOUWie2qHgWuXQHo\",\n",
      "        \"description\": \"AI Playground \\u2022 379 tracks\",\n",
      "        \"track_count\": \"379\"\n",
      "    },\n",
      "    {\n",
      "        \"title\": \"Songs I grew Up with\",\n",
      "        \"playlistId\": \"PLZnYAMmCI5BaA5DnAoll8wJILmJSec6Ya\",\n",
      "        \"description\": \"AI Playground \\u2022 197 tracks\",\n",
      "        \"track_count\": \"197\"\n",
      "    },\n",
      "    {\n",
      "        \"title\": \"Malayalam Songs for Travel\",\n",
      "        \"playlistId\": \"PLZnYAMmCI5BbD3Vtv3LiuWLH_7Qw4hJR3\",\n",
      "        \"description\": \"AI Playground \\u2022 40 tracks\",\n",
      "        \"track_count\": \"40\"\n",
      "    },\n",
      "    {\n",
      "        \"title\": \"Malayalm Modern(Rap / Hip Hop)\",\n",
      "        \"playlistId\": \"PLZnYAMmCI5BZUmXqXzPdffNe3PPzk_G7Y\",\n",
      "        \"description\": \"AI Playground \\u2022 28 tracks\",\n",
      "        \"track_count\": \"28\"\n",
      "    },\n",
      "    {\n",
      "        \"title\": \"malayalam\",\n",
      "        \"playlistId\": \"PLZnYAMmCI5BZC6a1OpgbD5Hmu2bjiqRoy\",\n",
      "        \"description\": \"AI Playground \\u2022 53 tracks\",\n",
      "        \"track_count\": \"53\"\n",
      "    },\n",
      "    {\n",
      "        \"title\": \"hindi\",\n",
      "        \"playlistId\": \"PLZnYAMmCI5Bbty_r-_lciNbgQI4RmRoBI\",\n",
      "        \"description\": \"AI Playground \\u2022 35 tracks\",\n",
      "        \"track_count\": \"35\"\n",
      "    },\n",
      "    {\n",
      "        \"title\": \"feel\",\n",
      "        \"playlistId\": \"PLZnYAMmCI5BZ9f3xLI59p0zGaqY13rk96\",\n",
      "        \"description\": \"AI Playground \\u2022 3 tracks\",\n",
      "        \"track_count\": \"3\"\n",
      "    },\n",
      "    {\n",
      "        \"title\": \"When I am in Love\",\n",
      "        \"playlistId\": \"PLZnYAMmCI5BZLoyQD0pP4snNc6_ITYv2V\",\n",
      "        \"description\": \"AI Playground \\u2022 60 tracks\",\n",
      "        \"track_count\": \"60\"\n",
      "    },\n",
      "    {\n",
      "        \"title\": \"Dubstep / Trap\",\n",
      "        \"playlistId\": \"PLZnYAMmCI5BbRM2_OAMPdD6S0DD9Gt6zv\",\n",
      "        \"description\": \"AI Playground \\u2022 48 tracks\",\n",
      "        \"track_count\": \"48\"\n",
      "    },\n",
      "    {\n",
      "        \"title\": \"That Blood Pop Songs\",\n",
      "        \"playlistId\": \"PLZnYAMmCI5BZjk-twhaf80rhZSAlsxxpj\",\n",
      "        \"description\": \"AI Playground \\u2022 30 tracks\",\n",
      "        \"track_count\": \"30\"\n",
      "    },\n",
      "    {\n",
      "        \"title\": \"english\",\n",
      "        \"playlistId\": \"PLZnYAMmCI5Bbp89kmzQNdLYT4pAOPIZIc\",\n",
      "        \"description\": \"AI Playground \\u2022 32 tracks\",\n",
      "        \"track_count\": \"32\"\n",
      "    },\n",
      "    {\n",
      "        \"title\": \"Classic Country Christmas\",\n",
      "        \"playlistId\": \"RDCLAK5uy_mfFitYsxvQM_wn4KfIhy5PZkyrwMUIdPI\",\n",
      "        \"description\": \"YouTube Music \\u2022 93 songs\",\n",
      "        \"track_count\": \"93\"\n",
      "    },\n",
      "    {\n",
      "        \"title\": \"House, House party\",\n",
      "        \"playlistId\": \"PLZnYAMmCI5BacMoa9EF5PSKad_qCmK402\",\n",
      "        \"description\": \"AI Playground \\u2022 1 track\",\n",
      "        \"track_count\": \"1\"\n",
      "    },\n",
      "    {\n",
      "        \"title\": \"Arabic Trance\",\n",
      "        \"playlistId\": \"PLZnYAMmCI5BYnEV3ir3bKUcrZhXkDT1oB\",\n",
      "        \"description\": \"AI Playground \\u2022 11 tracks\",\n",
      "        \"track_count\": \"11\"\n",
      "    },\n",
      "    {\n",
      "        \"title\": \"malayalam disco\",\n",
      "        \"playlistId\": \"PLZnYAMmCI5BbHYdBZ3jTGUchviAmKLt7s\",\n",
      "        \"description\": \"AI Playground \\u2022 20 tracks\",\n",
      "        \"track_count\": \"20\"\n",
      "    },\n",
      "    {\n",
      "        \"title\": \"Hpop\",\n",
      "        \"playlistId\": \"PLZnYAMmCI5Bb1JDSgaTN0rfH4rxzTxxn_\",\n",
      "        \"description\": \"AI Playground \\u2022 1 track\",\n",
      "        \"track_count\": \"1\"\n",
      "    },\n",
      "    {\n",
      "        \"title\": \"malayalam\",\n",
      "        \"playlistId\": \"PLzuRDQemqISMX7MVNNiB5U8Fb26uj0-4r\",\n",
      "        \"description\": \"Vimal Mathew \\u2022 19 tracks\",\n",
      "        \"track_count\": \"19\"\n",
      "    },\n",
      "    {\n",
      "        \"title\": \"Episodes for Later\",\n",
      "        \"playlistId\": \"SE\",\n",
      "        \"description\": \"Episodes you save for later\",\n",
      "        \"track_count\": null\n",
      "    }\n",
      "]\n"
     ]
    }
   ],
   "source": [
    "# result = get_library.invoke('demo')\n",
    "# print(result)"
   ]
  },
  {
   "cell_type": "code",
   "execution_count": null,
   "id": "3f8eb9bf",
   "metadata": {},
   "outputs": [],
   "source": [
    "# add_to_playlist = StructuredTool.from_function(\n",
    "#     name = 'add_to_playlist',\n",
    "#     description= 'use this tool to add a song to user playlist. you need to pass the playlist id and the song id or video id to the tool',\n",
    "#     func= yt_oath_user.add_song_to_playlist\n",
    "# )"
   ]
  },
  {
   "cell_type": "code",
   "execution_count": null,
   "id": "b0348119",
   "metadata": {},
   "outputs": [
    {
     "name": "stdout",
     "output_type": "stream",
     "text": [
      "{'status': 'STATUS_SUCCEEDED', 'playlistEditResults': [{'videoId': 'bVwPpsEqmm8', 'setVideoId': '2AAB0CD831B25FC9', 'multiSelectData': {'multiSelectParams': 'CAESIlBMWm5ZQU1tQ0k1Qlk3ekYtU2hPVVdpZTJxSGdXdVhRSG8=', 'multiSelectItem': 'Ch8KC2JWd1Bwc0VxbW04EhAyQUFCMENEODMxQjI1RkM5'}}]}\n"
     ]
    }
   ],
   "source": [
    "# result = add_to_playlist.invoke({\n",
    "#     \"playlist_id\": \"PLZnYAMmCI5BY7zF-ShOUWie2qHgWuXQHo\",\n",
    "#     \"song_id\": [\"bVwPpsEqmm8\"]\n",
    "# })\n",
    "# print(result)"
   ]
  },
  {
   "cell_type": "code",
   "execution_count": null,
   "id": "15546460",
   "metadata": {},
   "outputs": [
    {
     "name": "stdout",
     "output_type": "stream",
     "text": [
      "[\n",
      "    {\n",
      "        \"title\": \"Liked Music\",\n",
      "        \"playlistId\": \"LM\",\n",
      "        \"description\": \"Auto playlist\",\n",
      "        \"track_count\": null\n",
      "    },\n",
      "    {\n",
      "        \"title\": \"Vimals\",\n",
      "        \"playlistId\": \"PLZnYAMmCI5BY7zF-ShOUWie2qHgWuXQHo\",\n",
      "        \"description\": \"AI Playground \\u2022 375 tracks\",\n",
      "        \"track_count\": \"375\"\n",
      "    },\n",
      "    {\n",
      "        \"title\": \"Songs I grew Up with\",\n",
      "        \"playlistId\": \"PLZnYAMmCI5BaA5DnAoll8wJILmJSec6Ya\",\n",
      "        \"description\": \"AI Playground \\u2022 197 tracks\",\n",
      "        \"track_count\": \"197\"\n",
      "    },\n",
      "    {\n",
      "        \"title\": \"Malayalam Songs for Travel\",\n",
      "        \"playlistId\": \"PLZnYAMmCI5BbD3Vtv3LiuWLH_7Qw4hJR3\",\n",
      "        \"description\": \"AI Playground \\u2022 40 tracks\",\n",
      "        \"track_count\": \"40\"\n",
      "    },\n",
      "    {\n",
      "        \"title\": \"Malayalm Modern(Rap / Hip Hop)\",\n",
      "        \"playlistId\": \"PLZnYAMmCI5BZUmXqXzPdffNe3PPzk_G7Y\",\n",
      "        \"description\": \"AI Playground \\u2022 28 tracks\",\n",
      "        \"track_count\": \"28\"\n",
      "    },\n",
      "    {\n",
      "        \"title\": \"malayalam\",\n",
      "        \"playlistId\": \"PLZnYAMmCI5BZC6a1OpgbD5Hmu2bjiqRoy\",\n",
      "        \"description\": \"AI Playground \\u2022 53 tracks\",\n",
      "        \"track_count\": \"53\"\n",
      "    },\n",
      "    {\n",
      "        \"title\": \"hindi\",\n",
      "        \"playlistId\": \"PLZnYAMmCI5Bbty_r-_lciNbgQI4RmRoBI\",\n",
      "        \"description\": \"AI Playground \\u2022 35 tracks\",\n",
      "        \"track_count\": \"35\"\n",
      "    },\n",
      "    {\n",
      "        \"title\": \"feel\",\n",
      "        \"playlistId\": \"PLZnYAMmCI5BZ9f3xLI59p0zGaqY13rk96\",\n",
      "        \"description\": \"AI Playground \\u2022 3 tracks\",\n",
      "        \"track_count\": \"3\"\n",
      "    },\n",
      "    {\n",
      "        \"title\": \"When I am in Love\",\n",
      "        \"playlistId\": \"PLZnYAMmCI5BZLoyQD0pP4snNc6_ITYv2V\",\n",
      "        \"description\": \"AI Playground \\u2022 60 tracks\",\n",
      "        \"track_count\": \"60\"\n",
      "    },\n",
      "    {\n",
      "        \"title\": \"Dubstep / Trap\",\n",
      "        \"playlistId\": \"PLZnYAMmCI5BbRM2_OAMPdD6S0DD9Gt6zv\",\n",
      "        \"description\": \"AI Playground \\u2022 48 tracks\",\n",
      "        \"track_count\": \"48\"\n",
      "    },\n",
      "    {\n",
      "        \"title\": \"That Blood Pop Songs\",\n",
      "        \"playlistId\": \"PLZnYAMmCI5BZjk-twhaf80rhZSAlsxxpj\",\n",
      "        \"description\": \"AI Playground \\u2022 30 tracks\",\n",
      "        \"track_count\": \"30\"\n",
      "    },\n",
      "    {\n",
      "        \"title\": \"english\",\n",
      "        \"playlistId\": \"PLZnYAMmCI5Bbp89kmzQNdLYT4pAOPIZIc\",\n",
      "        \"description\": \"AI Playground \\u2022 32 tracks\",\n",
      "        \"track_count\": \"32\"\n",
      "    },\n",
      "    {\n",
      "        \"title\": \"Classic Country Christmas\",\n",
      "        \"playlistId\": \"RDCLAK5uy_mfFitYsxvQM_wn4KfIhy5PZkyrwMUIdPI\",\n",
      "        \"description\": \"YouTube Music \\u2022 93 songs\",\n",
      "        \"track_count\": \"93\"\n",
      "    },\n",
      "    {\n",
      "        \"title\": \"House, House party\",\n",
      "        \"playlistId\": \"PLZnYAMmCI5BacMoa9EF5PSKad_qCmK402\",\n",
      "        \"description\": \"AI Playground \\u2022 1 track\",\n",
      "        \"track_count\": \"1\"\n",
      "    },\n",
      "    {\n",
      "        \"title\": \"Arabic Trance\",\n",
      "        \"playlistId\": \"PLZnYAMmCI5BYnEV3ir3bKUcrZhXkDT1oB\",\n",
      "        \"description\": \"AI Playground \\u2022 11 tracks\",\n",
      "        \"track_count\": \"11\"\n",
      "    },\n",
      "    {\n",
      "        \"title\": \"malayalam disco\",\n",
      "        \"playlistId\": \"PLZnYAMmCI5BbHYdBZ3jTGUchviAmKLt7s\",\n",
      "        \"description\": \"AI Playground \\u2022 20 tracks\",\n",
      "        \"track_count\": \"20\"\n",
      "    },\n",
      "    {\n",
      "        \"title\": \"Hpop\",\n",
      "        \"playlistId\": \"PLZnYAMmCI5Bb1JDSgaTN0rfH4rxzTxxn_\",\n",
      "        \"description\": \"AI Playground \\u2022 1 track\",\n",
      "        \"track_count\": \"1\"\n",
      "    },\n",
      "    {\n",
      "        \"title\": \"malayalam\",\n",
      "        \"playlistId\": \"PLzuRDQemqISMX7MVNNiB5U8Fb26uj0-4r\",\n",
      "        \"description\": \"Vimal Mathew \\u2022 19 tracks\",\n",
      "        \"track_count\": \"19\"\n",
      "    },\n",
      "    {\n",
      "        \"title\": \"Episodes for Later\",\n",
      "        \"playlistId\": \"SE\",\n",
      "        \"description\": \"Episodes you save for later\",\n",
      "        \"track_count\": null\n",
      "    }\n",
      "]\n",
      "[\n",
      "    {\n",
      "        \"title\": \"Liked Music\",\n",
      "        \"playlistId\": \"LM\",\n",
      "        \"description\": \"Auto playlist\",\n",
      "        \"track_count\": null\n",
      "    },\n",
      "    {\n",
      "        \"title\": \"Vimals\",\n",
      "        \"playlistId\": \"PLZnYAMmCI5BY7zF-ShOUWie2qHgWuXQHo\",\n",
      "        \"description\": \"AI Playground \\u2022 375 tracks\",\n",
      "        \"track_count\": \"375\"\n",
      "    },\n",
      "    {\n",
      "        \"title\": \"Songs I grew Up with\",\n",
      "        \"playlistId\": \"PLZnYAMmCI5BaA5DnAoll8wJILmJSec6Ya\",\n",
      "        \"description\": \"AI Playground \\u2022 197 tracks\",\n",
      "        \"track_count\": \"197\"\n",
      "    },\n",
      "    {\n",
      "        \"title\": \"Malayalam Songs for Travel\",\n",
      "        \"playlistId\": \"PLZnYAMmCI5BbD3Vtv3LiuWLH_7Qw4hJR3\",\n",
      "        \"description\": \"AI Playground \\u2022 40 tracks\",\n",
      "        \"track_count\": \"40\"\n",
      "    },\n",
      "    {\n",
      "        \"title\": \"Malayalm Modern(Rap / Hip Hop)\",\n",
      "        \"playlistId\": \"PLZnYAMmCI5BZUmXqXzPdffNe3PPzk_G7Y\",\n",
      "        \"description\": \"AI Playground \\u2022 28 tracks\",\n",
      "        \"track_count\": \"28\"\n",
      "    },\n",
      "    {\n",
      "        \"title\": \"malayalam\",\n",
      "        \"playlistId\": \"PLZnYAMmCI5BZC6a1OpgbD5Hmu2bjiqRoy\",\n",
      "        \"description\": \"AI Playground \\u2022 53 tracks\",\n",
      "        \"track_count\": \"53\"\n",
      "    },\n",
      "    {\n",
      "        \"title\": \"hindi\",\n",
      "        \"playlistId\": \"PLZnYAMmCI5Bbty_r-_lciNbgQI4RmRoBI\",\n",
      "        \"description\": \"AI Playground \\u2022 35 tracks\",\n",
      "        \"track_count\": \"35\"\n",
      "    },\n",
      "    {\n",
      "        \"title\": \"feel\",\n",
      "        \"playlistId\": \"PLZnYAMmCI5BZ9f3xLI59p0zGaqY13rk96\",\n",
      "        \"description\": \"AI Playground \\u2022 3 tracks\",\n",
      "        \"track_count\": \"3\"\n",
      "    },\n",
      "    {\n",
      "        \"title\": \"When I am in Love\",\n",
      "        \"playlistId\": \"PLZnYAMmCI5BZLoyQD0pP4snNc6_ITYv2V\",\n",
      "        \"description\": \"AI Playground \\u2022 60 tracks\",\n",
      "        \"track_count\": \"60\"\n",
      "    },\n",
      "    {\n",
      "        \"title\": \"Dubstep / Trap\",\n",
      "        \"playlistId\": \"PLZnYAMmCI5BbRM2_OAMPdD6S0DD9Gt6zv\",\n",
      "        \"description\": \"AI Playground \\u2022 48 tracks\",\n",
      "        \"track_count\": \"48\"\n",
      "    },\n",
      "    {\n",
      "        \"title\": \"That Blood Pop Songs\",\n",
      "        \"playlistId\": \"PLZnYAMmCI5BZjk-twhaf80rhZSAlsxxpj\",\n",
      "        \"description\": \"AI Playground \\u2022 30 tracks\",\n",
      "        \"track_count\": \"30\"\n",
      "    },\n",
      "    {\n",
      "        \"title\": \"english\",\n",
      "        \"playlistId\": \"PLZnYAMmCI5Bbp89kmzQNdLYT4pAOPIZIc\",\n",
      "        \"description\": \"AI Playground \\u2022 32 tracks\",\n",
      "        \"track_count\": \"32\"\n",
      "    },\n",
      "    {\n",
      "        \"title\": \"Classic Country Christmas\",\n",
      "        \"playlistId\": \"RDCLAK5uy_mfFitYsxvQM_wn4KfIhy5PZkyrwMUIdPI\",\n",
      "        \"description\": \"YouTube Music \\u2022 93 songs\",\n",
      "        \"track_count\": \"93\"\n",
      "    },\n",
      "    {\n",
      "        \"title\": \"House, House party\",\n",
      "        \"playlistId\": \"PLZnYAMmCI5BacMoa9EF5PSKad_qCmK402\",\n",
      "        \"description\": \"AI Playground \\u2022 1 track\",\n",
      "        \"track_count\": \"1\"\n",
      "    },\n",
      "    {\n",
      "        \"title\": \"Arabic Trance\",\n",
      "        \"playlistId\": \"PLZnYAMmCI5BYnEV3ir3bKUcrZhXkDT1oB\",\n",
      "        \"description\": \"AI Playground \\u2022 11 tracks\",\n",
      "        \"track_count\": \"11\"\n",
      "    },\n",
      "    {\n",
      "        \"title\": \"malayalam disco\",\n",
      "        \"playlistId\": \"PLZnYAMmCI5BbHYdBZ3jTGUchviAmKLt7s\",\n",
      "        \"description\": \"AI Playground \\u2022 20 tracks\",\n",
      "        \"track_count\": \"20\"\n",
      "    },\n",
      "    {\n",
      "        \"title\": \"Hpop\",\n",
      "        \"playlistId\": \"PLZnYAMmCI5Bb1JDSgaTN0rfH4rxzTxxn_\",\n",
      "        \"description\": \"AI Playground \\u2022 1 track\",\n",
      "        \"track_count\": \"1\"\n",
      "    },\n",
      "    {\n",
      "        \"title\": \"malayalam\",\n",
      "        \"playlistId\": \"PLzuRDQemqISMX7MVNNiB5U8Fb26uj0-4r\",\n",
      "        \"description\": \"Vimal Mathew \\u2022 19 tracks\",\n",
      "        \"track_count\": \"19\"\n",
      "    },\n",
      "    {\n",
      "        \"title\": \"Episodes for Later\",\n",
      "        \"playlistId\": \"SE\",\n",
      "        \"description\": \"Episodes you save for later\",\n",
      "        \"track_count\": null\n",
      "    }\n",
      "]\n"
     ]
    }
   ],
   "source": [
    "# result = await get_library.ainvoke(\"vimal\")\n",
    "# print(result)"
   ]
  },
  {
   "cell_type": "code",
   "execution_count": 6,
   "id": "af583ed1",
   "metadata": {},
   "outputs": [],
   "source": [
    "llm_with_tools = llm.bind_tools(tools)"
   ]
  },
  {
   "cell_type": "code",
   "execution_count": 7,
   "id": "406a69ed",
   "metadata": {},
   "outputs": [],
   "source": [
    "class State(TypedDict):\n",
    "    messages : Annotated[List[Any], add_messages]"
   ]
  },
  {
   "cell_type": "code",
   "execution_count": 8,
   "id": "982c3325",
   "metadata": {},
   "outputs": [],
   "source": [
    "def music_search(state : State):\n",
    "    response_from_llm = llm_with_tools.invoke(state['messages'])\n",
    "    new_state = {\n",
    "        'messages' : [response_from_llm]\n",
    "    }\n",
    "    return new_state"
   ]
  },
  {
   "cell_type": "code",
   "execution_count": 9,
   "id": "5d5e090a",
   "metadata": {},
   "outputs": [],
   "source": [
    "graph_builder = StateGraph(State)"
   ]
  },
  {
   "cell_type": "code",
   "execution_count": 10,
   "id": "b8a2f17b",
   "metadata": {},
   "outputs": [
    {
     "data": {
      "text/plain": [
       "<langgraph.graph.state.StateGraph at 0x1577a5c73e0>"
      ]
     },
     "execution_count": 10,
     "metadata": {},
     "output_type": "execute_result"
    }
   ],
   "source": [
    "graph_builder.add_node(\"musicbot\" , music_search)\n",
    "graph_builder.add_node(\"tools\" , ToolNode(tools=tools))"
   ]
  },
  {
   "cell_type": "code",
   "execution_count": 11,
   "id": "aeea8099",
   "metadata": {},
   "outputs": [
    {
     "data": {
      "text/plain": [
       "<langgraph.graph.state.StateGraph at 0x1577a5c73e0>"
      ]
     },
     "execution_count": 11,
     "metadata": {},
     "output_type": "execute_result"
    }
   ],
   "source": [
    "graph_builder.add_edge(START, \"musicbot\")\n",
    "graph_builder.add_conditional_edges(\"musicbot\", tools_condition, \"tools\")\n",
    "graph_builder.add_edge(\"tools\", \"musicbot\")\n",
    "graph_builder.add_edge(\"musicbot\", END)"
   ]
  },
  {
   "cell_type": "code",
   "execution_count": 12,
   "id": "a3b3a999",
   "metadata": {},
   "outputs": [],
   "source": [
    "graph = graph_builder.compile(checkpointer=memory)"
   ]
  },
  {
   "cell_type": "code",
   "execution_count": 13,
   "id": "4767aa97",
   "metadata": {},
   "outputs": [
    {
     "name": "stdout",
     "output_type": "stream",
     "text": [
      "        +-----------+         \n",
      "        | __start__ |         \n",
      "        +-----------+         \n",
      "               *              \n",
      "               *              \n",
      "               *              \n",
      "         +----------+         \n",
      "         | musicbot |         \n",
      "         +----------+         \n",
      "          .         *         \n",
      "        ..           **       \n",
      "       .               *      \n",
      "+---------+         +-------+ \n",
      "| __end__ |         | tools | \n",
      "+---------+         +-------+ \n"
     ]
    }
   ],
   "source": [
    "graph.get_graph().print_ascii()"
   ]
  },
  {
   "cell_type": "code",
   "execution_count": 15,
   "id": "6672e952",
   "metadata": {},
   "outputs": [
    {
     "data": {
      "image/png": "[encoded data removed]",
      "text/plain": [
       "<IPython.core.display.Image object>"
      ]
     },
     "metadata": {},
     "output_type": "display_data"
    }
   ],
   "source": [
    "# sometimes this code will not work. this is an error with mermaid itself\n",
    "display(Image(graph.get_graph().draw_mermaid_png()))"
   ]
  },
  {
   "cell_type": "code",
   "execution_count": 14,
   "id": "1faae8b9",
   "metadata": {},
   "outputs": [],
   "source": [
    "def process_ai_response(response):\n",
    "    if \"<think>\" in response and \"</think>\" in response:\n",
    "        # Extract everything cleanly\n",
    "        before_think = response.split(\"<think>\")[0]\n",
    "        think_content = response.split(\"<think>\")[1].split(\"</think>\")[0]\n",
    "        after_think = response.split(\"</think>\")[1]\n",
    "\n",
    "        # Format the think block for display\n",
    "        formatted_think = f\"> 💭 *{think_content.strip()}*\"\n",
    "\n",
    "        # Combine all parts\n",
    "        return after_think.strip()\n",
    "    else:\n",
    "        return response"
   ]
  },
  {
   "cell_type": "code",
   "execution_count": 19,
   "id": "5a2e233c",
   "metadata": {},
   "outputs": [],
   "source": [
    "config =  {'configurable' : {'thread_id' : '7'}}"
   ]
  },
  {
   "cell_type": "code",
   "execution_count": 20,
   "id": "2310f3a7",
   "metadata": {},
   "outputs": [],
   "source": [
    "async def chat(message, history):\n",
    "    current_state = {\n",
    "        'messages' : message\n",
    "    }\n",
    "\n",
    "    result = await graph.ainvoke(current_state, config = config)\n",
    "\n",
    "    return process_ai_response(result['messages'][-1].content)"
   ]
  },
  {
   "cell_type": "code",
   "execution_count": 21,
   "id": "5b4835c2",
   "metadata": {},
   "outputs": [
    {
     "name": "stdout",
     "output_type": "stream",
     "text": [
      "* Running on local URL:  http://127.0.0.1:7861\n",
      "* To create a public link, set `share=True` in `launch()`.\n"
     ]
    },
    {
     "data": {
      "text/html": [
       "<div><iframe src=\"http://127.0.0.1:7861/\" width=\"100%\" height=\"500\" allow=\"autoplay; camera; microphone; clipboard-read; clipboard-write;\" frameborder=\"0\" allowfullscreen></iframe></div>"
      ],
      "text/plain": [
       "<IPython.core.display.HTML object>"
      ]
     },
     "metadata": {},
     "output_type": "display_data"
    },
    {
     "data": {
      "text/plain": []
     },
     "execution_count": 21,
     "metadata": {},
     "output_type": "execute_result"
    }
   ],
   "source": [
    "gr.ChatInterface(chat, type = 'messages').launch()"
   ]
  },
  {
   "cell_type": "code",
   "execution_count": null,
   "id": "cbd323b2",
   "metadata": {},
   "outputs": [],
   "source": []
  }
 ],
 "metadata": {
  "kernelspec": {
   "display_name": "Youtube-Music-With-AI-Agents (3.12.11)",
   "language": "python",
   "name": "python3"
  },
  "language_info": {
   "codemirror_mode": {
    "name": "ipython",
    "version": 3
   },
   "file_extension": ".py",
   "mimetype": "text/x-python",
   "name": "python",
   "nbconvert_exporter": "python",
   "pygments_lexer": "ipython3",
   "version": "3.12.11"
  }
 },
 "nbformat": 4,
 "nbformat_minor": 5
}
